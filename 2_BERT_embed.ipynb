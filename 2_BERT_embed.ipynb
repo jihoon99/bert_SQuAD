{
  "nbformat": 4,
  "nbformat_minor": 0,
  "metadata": {
    "colab": {
      "name": "2.BERT_embed.ipynb",
      "provenance": [],
      "collapsed_sections": [],
      "mount_file_id": "1J4_BCa-YEn2jQSeX9aTZHw1Up0InP2vN",
      "authorship_tag": "ABX9TyMKtUKg4JRVoYR10JUdvOdK",
      "include_colab_link": true
    },
    "kernelspec": {
      "name": "python3",
      "display_name": "Python 3"
    },
    "language_info": {
      "name": "python"
    },
    "accelerator": "GPU"
  },
  "cells": [
    {
      "cell_type": "markdown",
      "metadata": {
        "id": "view-in-github",
        "colab_type": "text"
      },
      "source": [
        "<a href=\"https://colab.research.google.com/github/jihoon99/bert_SQuAD/blob/master/2_BERT_embed.ipynb\" target=\"_parent\"><img src=\"https://colab.research.google.com/assets/colab-badge.svg\" alt=\"Open In Colab\"/></a>"
      ]
    },
    {
      "cell_type": "code",
      "metadata": {
        "colab": {
          "base_uri": "https://localhost:8080/",
          "height": 34
        },
        "id": "RInw4EgkGFGi",
        "outputId": "7c40fdc4-25cb-4586-f574-06fe2360bd33"
      },
      "source": [
        "'''\n",
        "goal : sentiment analysis\n",
        "\n",
        "    1: positive(4->1로 추후 전처리)\n",
        "    0: negative\n",
        "\n",
        "\n",
        "이상한게 training set에는 neutral이 있음..\n",
        "\n",
        "'''"
      ],
      "execution_count": null,
      "outputs": [
        {
          "output_type": "execute_result",
          "data": {
            "application/vnd.google.colaboratory.intrinsic+json": {
              "type": "string"
            },
            "text/plain": [
              "'\\ngoal : sentiment analysis\\n\\n    1: positive(4->1로 추후 전처리)\\n    0: negative\\n\\n\\n이상한게 training set에는 neutral이 있음..\\n\\n'"
            ]
          },
          "metadata": {
            "tags": []
          },
          "execution_count": 1
        }
      ]
    },
    {
      "cell_type": "code",
      "metadata": {
        "id": "9cCswV9CGRYa"
      },
      "source": [
        "import numpy as np\n",
        "import math\n",
        "import re\n",
        "import pandas as pd\n",
        "from bs4 import BeautifulSoup\n",
        "import random\n",
        "\n",
        "from google.colab import drive"
      ],
      "execution_count": null,
      "outputs": []
    },
    {
      "cell_type": "code",
      "metadata": {
        "colab": {
          "base_uri": "https://localhost:8080/"
        },
        "id": "8U3B-yxxKRkd",
        "outputId": "48eedbbd-5c3b-443a-8808-118d0c9b6514"
      },
      "source": [
        "!pip install bert-for-tf2\n",
        "!pip install sentencepiece"
      ],
      "execution_count": null,
      "outputs": [
        {
          "output_type": "stream",
          "text": [
            "Collecting bert-for-tf2\n",
            "\u001b[?25l  Downloading https://files.pythonhosted.org/packages/a5/a1/acb891630749c56901e770a34d6bac8a509a367dd74a05daf7306952e910/bert-for-tf2-0.14.9.tar.gz (41kB)\n",
            "\r\u001b[K     |████████                        | 10kB 18.0MB/s eta 0:00:01\r\u001b[K     |████████████████                | 20kB 16.6MB/s eta 0:00:01\r\u001b[K     |███████████████████████▉        | 30kB 14.4MB/s eta 0:00:01\r\u001b[K     |███████████████████████████████▉| 40kB 13.5MB/s eta 0:00:01\r\u001b[K     |████████████████████████████████| 51kB 6.1MB/s \n",
            "\u001b[?25hCollecting py-params>=0.9.6\n",
            "  Downloading https://files.pythonhosted.org/packages/aa/e0/4f663d8abf83c8084b75b995bd2ab3a9512ebc5b97206fde38cef906ab07/py-params-0.10.2.tar.gz\n",
            "Collecting params-flow>=0.8.0\n",
            "  Downloading https://files.pythonhosted.org/packages/a9/95/ff49f5ebd501f142a6f0aaf42bcfd1c192dc54909d1d9eb84ab031d46056/params-flow-0.8.2.tar.gz\n",
            "Requirement already satisfied: numpy in /usr/local/lib/python3.7/dist-packages (from params-flow>=0.8.0->bert-for-tf2) (1.19.5)\n",
            "Requirement already satisfied: tqdm in /usr/local/lib/python3.7/dist-packages (from params-flow>=0.8.0->bert-for-tf2) (4.41.1)\n",
            "Building wheels for collected packages: bert-for-tf2, py-params, params-flow\n",
            "  Building wheel for bert-for-tf2 (setup.py) ... \u001b[?25l\u001b[?25hdone\n",
            "  Created wheel for bert-for-tf2: filename=bert_for_tf2-0.14.9-cp37-none-any.whl size=30535 sha256=42b69afdd68e6f4c1c90da4644083c258307addfee40c001d87fa766f25fe6ad\n",
            "  Stored in directory: /root/.cache/pip/wheels/a1/04/ee/347bd9f5b821b637c76411d280271a857aece00358896a230f\n",
            "  Building wheel for py-params (setup.py) ... \u001b[?25l\u001b[?25hdone\n",
            "  Created wheel for py-params: filename=py_params-0.10.2-cp37-none-any.whl size=7912 sha256=8cc3dde92938928da7364204d249286ace6baa81e7a0bb3b6b82a31c94f2c6d8\n",
            "  Stored in directory: /root/.cache/pip/wheels/d0/4a/70/ff12450229ff1955abf01f365051d4faae1c20aef53ab4cf09\n",
            "  Building wheel for params-flow (setup.py) ... \u001b[?25l\u001b[?25hdone\n",
            "  Created wheel for params-flow: filename=params_flow-0.8.2-cp37-none-any.whl size=19472 sha256=0fdb075fa5f6f2dff75adf09862e72f8ad9686f3c93bcbf2cf4a6915aea286da\n",
            "  Stored in directory: /root/.cache/pip/wheels/08/c8/7f/81c86b9ff2b86e2c477e3914175be03e679e596067dc630c06\n",
            "Successfully built bert-for-tf2 py-params params-flow\n",
            "Installing collected packages: py-params, params-flow, bert-for-tf2\n",
            "Successfully installed bert-for-tf2-0.14.9 params-flow-0.8.2 py-params-0.10.2\n",
            "Collecting sentencepiece\n",
            "\u001b[?25l  Downloading https://files.pythonhosted.org/packages/ac/aa/1437691b0c7c83086ebb79ce2da16e00bef024f24fec2a5161c35476f499/sentencepiece-0.1.96-cp37-cp37m-manylinux_2_17_x86_64.manylinux2014_x86_64.whl (1.2MB)\n",
            "\u001b[K     |████████████████████████████████| 1.2MB 7.5MB/s \n",
            "\u001b[?25hInstalling collected packages: sentencepiece\n",
            "Successfully installed sentencepiece-0.1.96\n"
          ],
          "name": "stdout"
        }
      ]
    },
    {
      "cell_type": "code",
      "metadata": {
        "id": "0LA8zA0FKWfJ"
      },
      "source": [
        "try:\n",
        "    %tensorflow_version 2.x\n",
        "except Exception:\n",
        "    pass\n",
        "import tensorflow as tf\n",
        "import tensorflow_hub as hub # where to download models\n",
        "from tensorflow.keras import layers\n",
        "import bert"
      ],
      "execution_count": null,
      "outputs": []
    },
    {
      "cell_type": "markdown",
      "metadata": {
        "id": "afhCgy-1LiqH"
      },
      "source": [
        "# Data Preprocess"
      ]
    },
    {
      "cell_type": "markdown",
      "metadata": {
        "id": "6GS3V7geLk7E"
      },
      "source": [
        "## Load data"
      ]
    },
    {
      "cell_type": "code",
      "metadata": {
        "colab": {
          "base_uri": "https://localhost:8080/"
        },
        "id": "l8MQCYoSKjAa",
        "outputId": "f7343604-849d-4df8-d578-7db1d3546858"
      },
      "source": [
        "drive.mount(\"/content/drive\")"
      ],
      "execution_count": null,
      "outputs": [
        {
          "output_type": "stream",
          "text": [
            "Mounted at /content/drive\n"
          ],
          "name": "stdout"
        }
      ]
    },
    {
      "cell_type": "code",
      "metadata": {
        "id": "2pkxp8fwK_LO"
      },
      "source": [
        "cols = [\"sentiment\", \"id\", \"date\", \"query\", \"user\", \"text\"]\n",
        "\n",
        "data = pd.read_csv(\n",
        "    \"/content/drive/MyDrive/study/udemy_bert/train.csv\",\n",
        "    header=None,\n",
        "    names=cols,\n",
        "    engine=\"python\",\n",
        "    encoding=\"latin1\"\n",
        ")\n",
        "\n",
        "data.drop([\"id\", \"date\", \"query\", \"user\"],\n",
        "          axis=1,\n",
        "          inplace=True)"
      ],
      "execution_count": null,
      "outputs": []
    },
    {
      "cell_type": "code",
      "metadata": {
        "colab": {
          "base_uri": "https://localhost:8080/"
        },
        "id": "xt4uCbm1LxYU",
        "outputId": "170736e7-fc57-4eb8-e689-243cf46517b1"
      },
      "source": [
        "data.sentiment.unique()"
      ],
      "execution_count": null,
      "outputs": [
        {
          "output_type": "execute_result",
          "data": {
            "text/plain": [
              "array([0, 4])"
            ]
          },
          "metadata": {
            "tags": []
          },
          "execution_count": 7
        }
      ]
    },
    {
      "cell_type": "markdown",
      "metadata": {
        "id": "RkxSJlUJMJs8"
      },
      "source": [
        "## Preprocess"
      ]
    },
    {
      "cell_type": "code",
      "metadata": {
        "id": "C4XvRWBXL71_"
      },
      "source": [
        "def clean_tweet(tweet):\n",
        "    tweet = BeautifulSoup(tweet, \"lxml\").get_text() #lxml포멧으로 변환하여 전처리\n",
        "    # Removing the @\n",
        "    tweet = re.sub(r\"@[A-Za-z0-9]+\", ' ', tweet)\n",
        "    # Removing the URL links\n",
        "    tweet = re.sub(r\"https?://[A-Za-z0-9./]+\", ' ', tweet)\n",
        "    # Keeping only letters\n",
        "    tweet = re.sub(r\"[^a-zA-Z.!?']\", ' ', tweet)\n",
        "    # Removing additional whitespaces\n",
        "    tweet = re.sub(r\" +\", ' ', tweet)\n",
        "    return tweet"
      ],
      "execution_count": null,
      "outputs": []
    },
    {
      "cell_type": "code",
      "metadata": {
        "id": "UrNsMKnUMZ24"
      },
      "source": [
        "# data_clean = [clean_tweet(tweet) for tweet in data.text]\n",
        "\n",
        "data_labels = data.sentiment.values\n",
        "data_labels[data_labels == 4] = 1"
      ],
      "execution_count": null,
      "outputs": []
    },
    {
      "cell_type": "code",
      "metadata": {
        "id": "t_BwlzzoPBwV"
      },
      "source": [
        "import pickle\n",
        "\n",
        "# data clean을 저장함. 너무 오래걸림.\n",
        "# with open('data_clean.pickle', 'wb') as f:\n",
        "#     pickle.dump(data_clean, f, pickle.HIGHEST_PROTOCOL)\n",
        "\n",
        "# load\n",
        "with open('/content/drive/MyDrive/study/udemy_bert/data_clean.pickle', 'rb') as f:\n",
        "    data_clean = pickle.load(f)"
      ],
      "execution_count": null,
      "outputs": []
    },
    {
      "cell_type": "code",
      "metadata": {
        "colab": {
          "base_uri": "https://localhost:8080/"
        },
        "id": "W4o_Aq_UN4Ev",
        "outputId": "1aa6d90a-dd6f-4759-f59a-04ea164bbd7c"
      },
      "source": [
        "data_clean[:4]"
      ],
      "execution_count": null,
      "outputs": [
        {
          "output_type": "execute_result",
          "data": {
            "text/plain": [
              "[\" Awww that's a bummer. You shoulda got David Carr of Third Day to do it. D\",\n",
              " \"is upset that he can't update his Facebook by texting it... and might cry as a result School today also. Blah!\",\n",
              " ' I dived many times for the ball. Managed to save The rest go out of bounds',\n",
              " 'my whole body feels itchy and like its on fire ']"
            ]
          },
          "metadata": {
            "tags": []
          },
          "execution_count": 11
        }
      ]
    },
    {
      "cell_type": "markdown",
      "metadata": {
        "id": "GsC8BNROPlz4"
      },
      "source": [
        "## Tokenizer\n",
        "- 토크나이징을 하기 위해선 버트 레이어를 만들어야함."
      ]
    },
    {
      "cell_type": "code",
      "metadata": {
        "id": "m6-1oLXbOwM7"
      },
      "source": [
        "FullTokenizer = bert.bert_tokenization.FullTokenizer\n",
        "bert_layer = hub.KerasLayer(\"https://tfhub.dev/tensorflow/bert_en_uncased_L-12_H-768_A-12/1\",\n",
        "                            trainable=False) # bert layer\n",
        "\n",
        "vocab_file = bert_layer.resolved_object.vocab_file.asset_path.numpy() # vocab file을 numpy로 변환해서 갖고 있는다.\n",
        "do_lower_case = bert_layer.resolved_object.do_lower_case.numpy() # lower케이스를 할 경우.\n",
        "tokenizer = FullTokenizer(vocab_file, do_lower_case) # 토크나이져"
      ],
      "execution_count": null,
      "outputs": []
    },
    {
      "cell_type": "code",
      "metadata": {
        "colab": {
          "base_uri": "https://localhost:8080/"
        },
        "id": "Q7MmAyHZSrUj",
        "outputId": "21ce94b8-a3d9-4e56-fb63-0119a46fd819"
      },
      "source": [
        "# 예제\n",
        "tokenizer.tokenize(\"My dog loves strawberries.\")"
      ],
      "execution_count": null,
      "outputs": [
        {
          "output_type": "execute_result",
          "data": {
            "text/plain": [
              "['my', 'dog', 'loves', 'straw', '##berries', '.']"
            ]
          },
          "metadata": {
            "tags": []
          },
          "execution_count": 13
        }
      ]
    },
    {
      "cell_type": "code",
      "metadata": {
        "colab": {
          "base_uri": "https://localhost:8080/"
        },
        "id": "JyWl_vFsS4Hy",
        "outputId": "ac10d91b-29b3-4f26-9d3a-0e2ff84fa298"
      },
      "source": [
        "tokenizer.convert_tokens_to_ids(tokenizer.tokenize(\"My dog loves strawberries.\"))"
      ],
      "execution_count": null,
      "outputs": [
        {
          "output_type": "execute_result",
          "data": {
            "text/plain": [
              "[2026, 3899, 7459, 13137, 20968, 1012]"
            ]
          },
          "metadata": {
            "tags": []
          },
          "execution_count": 14
        }
      ]
    },
    {
      "cell_type": "code",
      "metadata": {
        "id": "r7st2XJ9TF7M"
      },
      "source": [
        "def encode_sentence(sent):\n",
        "    ''' bert에 맞춰서 토큰들을 넣기'''\n",
        "    return [\"[CLS]\"] + tokenizer.tokenize(sent) + [\"[SEP]\"]"
      ],
      "execution_count": null,
      "outputs": []
    },
    {
      "cell_type": "code",
      "metadata": {
        "id": "Gwhw_6uaTZi0"
      },
      "source": [
        "# data_inputs = [encode_sentence(sentence) for sentence in data_clean]"
      ],
      "execution_count": null,
      "outputs": []
    },
    {
      "cell_type": "code",
      "metadata": {
        "id": "Zg29gt-yTjF3"
      },
      "source": [
        "# with open('/content/drive/MyDrive/study/udemy_bert/data_inputs_embed.pickle', 'wb') as f:\n",
        "#     pickle.dump(data_inputs, f, pickle.HIGHEST_PROTOCOL)\n",
        "\n",
        "# load\n",
        "with open('/content/drive/MyDrive/study/udemy_bert/data_inputs_embed.pickle', 'rb') as f:\n",
        "    data_inputs = pickle.load(f)"
      ],
      "execution_count": null,
      "outputs": []
    },
    {
      "cell_type": "code",
      "metadata": {
        "id": "-4KP_IHZ9x0T"
      },
      "source": [
        "# data_labels = data.sentiment.values\n",
        "# data_labels[data_labels == 4] = 1\n",
        "# with open('/content/drive/MyDrive/study/udemy_bert/data_labels_embed.pickle', 'wb') as f:\n",
        "#     pickle.dump(data_labels, f, pickle.HIGHEST_PROTOCOL)\n",
        "\n",
        "# load\n",
        "with open('/content/drive/MyDrive/study/udemy_bert/data_labels_embed.pickle', 'rb') as f:\n",
        "    data_labels = pickle.load(f)"
      ],
      "execution_count": null,
      "outputs": []
    },
    {
      "cell_type": "markdown",
      "metadata": {
        "id": "nGmGpxj6WC6b"
      },
      "source": [
        "## DataSet transform\n",
        "- 3개의 다른 인풋 센텐스를 만들어야 한다."
      ]
    },
    {
      "cell_type": "code",
      "metadata": {
        "id": "Bnc7UhQ4o9C7"
      },
      "source": [
        "def get_ids(tokens):\n",
        "    return tokenizer.convert_tokens_to_ids(tokens)\n",
        "\n",
        "def get_mask(tokens):\n",
        "    return np.char.not_equal(tokens, \"[PAD]\").astype(int)\n",
        "\n",
        "def get_segments(tokens):\n",
        "    seg_ids = []\n",
        "    current_seg_id = 0\n",
        "    for tok in tokens:\n",
        "        seg_ids.append(current_seg_id)\n",
        "        if tok == \"[SEP]\":\n",
        "            current_seg_id = 1-current_seg_id # turns 1 into 0 and vice versa\n",
        "    return seg_ids"
      ],
      "execution_count": null,
      "outputs": []
    },
    {
      "cell_type": "code",
      "metadata": {
        "colab": {
          "base_uri": "https://localhost:8080/"
        },
        "id": "ZwFOjkz1rJ9u",
        "outputId": "b23e28b3-51f2-4fdc-c98c-15a584b718de"
      },
      "source": [
        "# example\n",
        "\n",
        "get_mask(\"[PAD]\")"
      ],
      "execution_count": null,
      "outputs": [
        {
          "output_type": "execute_result",
          "data": {
            "text/plain": [
              "array(0)"
            ]
          },
          "metadata": {
            "tags": []
          },
          "execution_count": 21
        }
      ]
    },
    {
      "cell_type": "code",
      "metadata": {
        "id": "SnUWOoqfVTMy"
      },
      "source": [
        "data_with_len = [[sent, data_labels[i], len(sent)] # 문장, 답(ground_truth), 문장길이\n",
        "                 for i, sent in enumerate(data_inputs)]\n",
        "random.shuffle(data_with_len)\n",
        "data_with_len.sort(key=lambda x: x[2])\n",
        "\n",
        "\n",
        "sorted_all = [([get_ids(sent_lab[0]), # word2idx\n",
        "                get_mask(sent_lab[0]), # padding 정보 -> 패딩은 뒤에서 할 거다.\n",
        "                get_segments(sent_lab[0])], # segment정보\n",
        "               sent_lab[1]) # ground Truth 정보.\n",
        "              for sent_lab in data_with_len if sent_lab[2] > 7]"
      ],
      "execution_count": null,
      "outputs": []
    },
    {
      "cell_type": "code",
      "metadata": {
        "colab": {
          "base_uri": "https://localhost:8080/"
        },
        "id": "l3ngrkcAqAby",
        "outputId": "58779601-da6f-4a80-8aa3-7150d761a45c"
      },
      "source": [
        "# example\n",
        "\n",
        "for sent_lab in data_with_len:\n",
        "    print(sent_lab)\n",
        "    break"
      ],
      "execution_count": null,
      "outputs": [
        {
          "output_type": "stream",
          "text": [
            "[['[CLS]', '[SEP]'], 1, 2]\n"
          ],
          "name": "stdout"
        }
      ]
    },
    {
      "cell_type": "code",
      "metadata": {
        "id": "jdipGgSobvPA"
      },
      "source": [
        "all_dataset = tf.data.Dataset.from_generator(lambda: sorted_all, # generator로 불러오기\n",
        "                                             output_types=(tf.int32, tf.int32))"
      ],
      "execution_count": null,
      "outputs": []
    },
    {
      "cell_type": "code",
      "metadata": {
        "colab": {
          "base_uri": "https://localhost:8080/"
        },
        "id": "g7U8PrirpoQO",
        "outputId": "3300e7f8-bbeb-4ec9-ad09-1f3407c5457b"
      },
      "source": [
        "# example\n",
        "sorted_all[0]"
      ],
      "execution_count": null,
      "outputs": [
        {
          "output_type": "execute_result",
          "data": {
            "text/plain": [
              "([[101, 5697, 2128, 5790, 2035, 2026, 2774, 102],\n",
              "  array([1, 1, 1, 1, 1, 1, 1, 1]),\n",
              "  [0, 0, 0, 0, 0, 0, 0, 0]],\n",
              " 0)"
            ]
          },
          "metadata": {
            "tags": []
          },
          "execution_count": 25
        }
      ]
    },
    {
      "cell_type": "markdown",
      "metadata": {
        "id": "CfzvbZNm-xK_"
      },
      "source": [
        ""
      ]
    },
    {
      "cell_type": "code",
      "metadata": {
        "colab": {
          "base_uri": "https://localhost:8080/"
        },
        "id": "LM0EWIdhcB33",
        "outputId": "2578e0d3-b8bf-4d58-90a4-c73d59536064"
      },
      "source": [
        "# example\n",
        "next(iter(all_dataset))"
      ],
      "execution_count": null,
      "outputs": [
        {
          "output_type": "execute_result",
          "data": {
            "text/plain": [
              "(<tf.Tensor: shape=(3, 8), dtype=int32, numpy=\n",
              " array([[ 101, 5697, 2128, 5790, 2035, 2026, 2774,  102],\n",
              "        [   1,    1,    1,    1,    1,    1,    1,    1],\n",
              "        [   0,    0,    0,    0,    0,    0,    0,    0]], dtype=int32)>,\n",
              " <tf.Tensor: shape=(), dtype=int32, numpy=0>)"
            ]
          },
          "metadata": {
            "tags": []
          },
          "execution_count": 26
        }
      ]
    },
    {
      "cell_type": "code",
      "metadata": {
        "id": "PQAR5YX3cDVr"
      },
      "source": [
        "BATCH_SIZE = 32\n",
        "all_batched = all_dataset.padded_batch(BATCH_SIZE,\n",
        "                                       padded_shapes=((3, None), ()),\n",
        "                                       padding_values=(0, 0)) # post padding이 정해지지 않음(None), 그리고 label은 ()에 저장"
      ],
      "execution_count": null,
      "outputs": []
    },
    {
      "cell_type": "code",
      "metadata": {
        "id": "VBealk4KfFTw"
      },
      "source": [
        "# https://www.tensorflow.org/api_docs/python/tf/data/Dataset\n",
        "\n",
        "# A = (tf.data.Dataset\n",
        "#      .range(1, 5, output_type=tf.int32)\n",
        "#      .map(lambda x: tf.fill([x], x)))\n",
        "\n",
        "# B = A.padded_batch(10)\n",
        "\n",
        "# for element in B.as_numpy_iterator():\n",
        "#     print(element)"
      ],
      "execution_count": null,
      "outputs": []
    },
    {
      "cell_type": "code",
      "metadata": {
        "id": "f62B4qUkh_5Y"
      },
      "source": [
        "NB_BATCHES = math.ceil(len(sorted_all)/BATCH_SIZE) # 배치 사이즈 구해주고\n",
        "NB_BATCHES_TEST = NB_BATCHES // 10 # 테스트 사이즈 구해줌\n",
        "all_batched.shuffle(NB_BATCHES) # shuffle\n",
        "\n",
        "test_dataset = all_batched.take(NB_BATCHES_TEST)\n",
        "train_dataset = all_batched.skip(NB_BATCHES_TEST)"
      ],
      "execution_count": null,
      "outputs": []
    },
    {
      "cell_type": "code",
      "metadata": {
        "colab": {
          "base_uri": "https://localhost:8080/"
        },
        "id": "BinXm8pqYuuQ",
        "outputId": "ff5dbc77-466e-425e-f3cc-29ca7dd7e17e"
      },
      "source": [
        "next(iter(all_dataset))"
      ],
      "execution_count": null,
      "outputs": [
        {
          "output_type": "execute_result",
          "data": {
            "text/plain": [
              "(<tf.Tensor: shape=(3, 8), dtype=int32, numpy=\n",
              " array([[ 101, 5697, 2128, 5790, 2035, 2026, 2774,  102],\n",
              "        [   1,    1,    1,    1,    1,    1,    1,    1],\n",
              "        [   0,    0,    0,    0,    0,    0,    0,    0]], dtype=int32)>,\n",
              " <tf.Tensor: shape=(), dtype=int32, numpy=0>)"
            ]
          },
          "metadata": {
            "tags": []
          },
          "execution_count": 68
        }
      ]
    },
    {
      "cell_type": "markdown",
      "metadata": {
        "id": "IafpyyoJjnX6"
      },
      "source": [
        "# model"
      ]
    },
    {
      "cell_type": "code",
      "metadata": {
        "id": "cFZKh6_B81Q8",
        "colab": {
          "base_uri": "https://localhost:8080/"
        },
        "outputId": "7fae0849-b87e-43b1-b76e-8eb78e98fe9a"
      },
      "source": [
        "# example\n",
        "my_sent = ['[CLS]'] + tokenizer.tokenize('Rose are red.') + ['[SEP]']\n",
        "\n",
        "# bert_layer는 3개를 인풋으로 받는다.\n",
        "testing = bert_layer([tf.expand_dims(tf.cast(get_ids(my_sent), tf.int32),0),  # 1. token id\n",
        "            tf.expand_dims(tf.cast(get_mask(my_sent), tf.int32),0),           # 2. mask_info\n",
        "            tf.expand_dims(tf.cast(get_segments(my_sent), tf.int32),0)])      # 3. segmant_info\n",
        "testing"
      ],
      "execution_count": null,
      "outputs": [
        {
          "output_type": "execute_result",
          "data": {
            "text/plain": [
              "[<tf.Tensor: shape=(1, 768), dtype=float32, numpy=\n",
              " array([[-9.0243739e-01, -3.1239107e-01, -9.1837043e-01,  9.0993232e-01,\n",
              "          7.9561085e-01, -2.2373390e-01,  9.0149468e-01,  3.3617881e-01,\n",
              "         -7.0260376e-01, -9.9997807e-01, -6.1263007e-01,  9.0368819e-01,\n",
              "          9.7990221e-01,  5.1885664e-01,  9.3426764e-01, -7.3485327e-01,\n",
              "         -3.6272845e-01, -7.1974802e-01,  4.5090425e-01, -5.7366294e-01,\n",
              "          7.2207272e-01,  9.9998593e-01, -1.6552918e-01,  3.1193751e-01,\n",
              "          5.0942808e-01,  9.6602708e-01, -7.3075873e-01,  9.2318892e-01,\n",
              "          9.6160442e-01,  7.4112266e-01, -6.9775683e-01,  2.1286364e-01,\n",
              "         -9.9334133e-01, -1.9665204e-01, -9.6998727e-01, -9.9184394e-01,\n",
              "          4.8266226e-01, -6.8694478e-01, -1.1749107e-01, -2.2487424e-03,\n",
              "         -9.1652173e-01,  4.4211754e-01,  9.9997818e-01,  9.6349739e-02,\n",
              "          6.1117959e-01, -3.0145600e-01, -1.0000000e+00,  5.5618232e-01,\n",
              "         -8.9677763e-01,  8.4615594e-01,  8.6229694e-01,  6.3404870e-01,\n",
              "          1.7589104e-01,  5.8706695e-01,  4.9648494e-01, -2.5836942e-01,\n",
              "          5.1309373e-02,  3.2604977e-01, -2.9618463e-01, -4.9118644e-01,\n",
              "         -6.0465741e-01,  4.8408425e-01, -9.3870914e-01, -9.2342395e-01,\n",
              "          8.4514409e-01,  6.5145737e-01, -3.9522651e-01, -3.8352680e-01,\n",
              "         -7.4549645e-02, -2.0942400e-01,  8.6476010e-01,  2.2412589e-01,\n",
              "          2.1664010e-01, -8.3128196e-01,  5.1229161e-01,  4.3588760e-01,\n",
              "         -6.4000446e-01,  1.0000000e+00, -5.7939255e-01, -9.8087156e-01,\n",
              "          8.8117540e-01,  6.1625528e-01,  5.6572473e-01, -3.1867561e-01,\n",
              "          2.2273269e-01, -1.0000000e+00,  4.7004506e-01, -2.6302370e-01,\n",
              "         -9.9282593e-01,  3.1650186e-01,  6.4942229e-01, -2.0795046e-01,\n",
              "          3.9304173e-01,  5.9772378e-01, -5.0412947e-01, -5.7782954e-01,\n",
              "         -4.6075523e-01, -8.8821578e-01, -3.4906211e-01, -5.1444805e-01,\n",
              "          2.0921229e-01, -4.2749476e-01, -4.4404659e-01, -3.8564986e-01,\n",
              "          3.4584063e-01, -5.0580603e-01, -4.4320366e-01,  4.2777044e-01,\n",
              "          3.7654775e-01,  7.6400644e-01,  4.7753707e-01, -3.9387009e-01,\n",
              "          5.2368617e-01, -9.4453508e-01,  6.3917345e-01, -3.8122082e-01,\n",
              "         -9.8759568e-01, -6.1835635e-01, -9.8943514e-01,  8.3104461e-01,\n",
              "         -5.1265860e-01, -2.2149438e-01,  9.6322203e-01, -2.4703653e-01,\n",
              "          2.7020654e-01, -3.0121371e-01, -8.3502662e-01, -1.0000000e+00,\n",
              "         -7.4564654e-01, -8.0683529e-01, -1.1307148e-01, -3.8886955e-01,\n",
              "         -9.8482382e-01, -9.5649797e-01,  5.4648614e-01,  9.6185112e-01,\n",
              "          1.3718039e-01,  9.9988991e-01, -4.1356254e-01,  9.5279080e-01,\n",
              "         -4.6018913e-01, -6.5950322e-01,  7.0165455e-01, -5.0131357e-01,\n",
              "          8.0053234e-01,  4.5027950e-01, -6.4468849e-01,  2.9616827e-01,\n",
              "         -5.9548008e-01,  5.1377952e-01, -7.9378426e-01, -2.6953450e-01,\n",
              "         -7.5290185e-01, -9.4781828e-01, -3.5258493e-01,  9.6479255e-01,\n",
              "         -6.9673973e-01, -9.2406428e-01, -2.8559877e-02, -3.2687497e-01,\n",
              "         -5.4027569e-01,  8.3726019e-01,  6.3409376e-01,  5.0494820e-01,\n",
              "         -6.3955611e-01,  3.7970701e-01,  1.0356585e-01,  6.1085910e-01,\n",
              "         -8.3816558e-01, -1.5227318e-01,  4.5553267e-01, -3.5482639e-01,\n",
              "         -9.1402888e-01, -9.8272485e-01, -4.3463778e-01,  5.0679803e-01,\n",
              "          9.9263966e-01,  7.2172046e-01,  4.1962856e-01,  6.3061422e-01,\n",
              "         -4.3072179e-01,  7.0199633e-01, -9.7890460e-01,  9.8147863e-01,\n",
              "         -3.0618426e-01,  3.4646755e-01, -7.6592726e-01, -3.4830038e-02,\n",
              "         -8.6552399e-01,  4.0612730e-01,  8.6972511e-01, -7.7064550e-01,\n",
              "         -8.0283582e-01, -2.0798938e-01, -4.1830257e-01, -5.0901872e-01,\n",
              "         -9.0237194e-01,  6.7623067e-01, -3.9246699e-01, -6.1559033e-01,\n",
              "         -1.5487602e-01,  9.1658717e-01,  9.7065771e-01,  8.5321093e-01,\n",
              "          3.5159174e-01,  7.0752400e-01, -9.0086013e-01, -5.3609556e-01,\n",
              "          2.2444953e-01,  2.3068778e-01,  3.9629805e-01,  9.9462450e-01,\n",
              "         -8.0457622e-01, -1.9683298e-01, -9.1462779e-01, -9.8039085e-01,\n",
              "          6.4249195e-02, -9.0165871e-01, -2.4037410e-01, -6.9595456e-01,\n",
              "          7.0358264e-01, -4.8140952e-01,  5.0025219e-01,  5.6886911e-01,\n",
              "         -9.8749763e-01, -7.5509709e-01,  4.4850859e-01, -3.8621551e-01,\n",
              "          5.0657594e-01, -3.3091608e-01,  8.4071922e-01,  9.3690789e-01,\n",
              "         -6.7936444e-01,  6.6942692e-01,  9.2247611e-01, -9.0102464e-01,\n",
              "         -8.1550068e-01,  7.8996569e-01, -3.2068837e-01,  8.0901223e-01,\n",
              "         -7.1483570e-01,  9.9306792e-01,  8.7851584e-01,  5.8446407e-01,\n",
              "         -9.5380640e-01, -6.3678116e-01, -8.8612604e-01, -6.8768173e-01,\n",
              "         -2.4415243e-01, -1.7416215e-01,  8.0222499e-01,  6.3556325e-01,\n",
              "          4.5432264e-01,  2.1854879e-01, -7.3200852e-01,  9.9689007e-01,\n",
              "         -7.8091419e-01, -9.7356528e-01, -6.9420391e-01, -2.1928278e-01,\n",
              "         -9.9077898e-01,  8.4980410e-01,  3.3955720e-01,  7.7664399e-01,\n",
              "         -5.3295672e-01, -6.6304797e-01, -9.7866631e-01,  8.9660102e-01,\n",
              "          2.2030227e-01,  9.7964537e-01, -5.4945099e-01, -9.5045549e-01,\n",
              "         -6.6253674e-01, -9.4264686e-01,  2.1979401e-02, -2.8405467e-01,\n",
              "         -2.6525328e-01,  3.3162028e-02, -9.5800728e-01,  5.6185794e-01,\n",
              "          6.2710220e-01,  4.2795140e-01, -7.6406467e-01,  9.9798191e-01,\n",
              "          1.0000000e+00,  9.6755433e-01,  8.8251477e-01,  7.9748589e-01,\n",
              "         -9.9987382e-01, -7.8668988e-01,  9.9999332e-01, -9.7178757e-01,\n",
              "         -1.0000000e+00, -9.3433762e-01, -8.2078189e-01,  3.8329738e-01,\n",
              "         -1.0000000e+00, -1.9776410e-01, -1.7793421e-01, -9.1862375e-01,\n",
              "          6.6472691e-01,  9.7437638e-01,  9.9079704e-01, -1.0000000e+00,\n",
              "          8.9517128e-01,  9.1795367e-01, -6.7374164e-01,  9.3293345e-01,\n",
              "         -6.3771904e-01,  9.7023892e-01,  6.4683849e-01,  5.6032497e-01,\n",
              "         -2.3221709e-01,  3.4939441e-01, -9.6090013e-01, -9.0578687e-01,\n",
              "         -5.9687257e-01, -6.7572278e-01,  9.9813801e-01,  2.5776789e-01,\n",
              "         -7.1917099e-01, -9.2338955e-01,  5.3965259e-01, -1.0724914e-02,\n",
              "          2.4935128e-01, -9.6805632e-01, -3.7320897e-01,  5.1559252e-01,\n",
              "          8.2742405e-01,  3.4667924e-01,  3.5737982e-01, -6.6420561e-01,\n",
              "          3.5525835e-01, -6.8554781e-02,  2.0392726e-01,  6.2689006e-01,\n",
              "         -9.1464561e-01, -5.5688429e-01, -2.2111604e-01,  1.0748236e-01,\n",
              "         -7.0414537e-01, -9.6060652e-01,  9.6740478e-01, -5.1293594e-01,\n",
              "          9.1349137e-01,  1.0000000e+00,  6.8613279e-01, -9.0489709e-01,\n",
              "          7.1794480e-01,  4.0134224e-01, -8.0604047e-01,  1.0000000e+00,\n",
              "          7.7540475e-01, -9.8426616e-01, -5.3279233e-01,  7.1216941e-01,\n",
              "         -5.7746834e-01, -7.3272187e-01,  9.9935234e-01, -2.8045651e-01,\n",
              "         -5.7629079e-01, -6.5864700e-01,  9.8862612e-01, -9.9407053e-01,\n",
              "          9.9395663e-01, -8.6989963e-01, -9.7786152e-01,  9.5427161e-01,\n",
              "          9.3786842e-01, -5.2261627e-01, -7.8263980e-01,  3.1570044e-01,\n",
              "         -6.6635185e-01,  4.9170408e-01, -9.3344671e-01,  7.3265415e-01,\n",
              "          5.0733358e-01, -6.6843033e-02,  9.2531043e-01, -8.6992604e-01,\n",
              "         -4.8700088e-01,  3.5859185e-01, -5.3835452e-01, -1.2374268e-02,\n",
              "          9.0654075e-01,  6.4171165e-01, -4.4907391e-01,  9.7104795e-03,\n",
              "         -4.6666640e-01, -7.2979975e-01, -9.5638692e-01,  6.5786600e-01,\n",
              "          1.0000000e+00, -4.4191569e-01,  8.2719254e-01, -3.1080660e-01,\n",
              "         -2.2301145e-02,  1.9447839e-01,  4.5439839e-01,  5.3572071e-01,\n",
              "         -4.7909200e-01, -8.1297213e-01,  8.3332217e-01, -9.4043678e-01,\n",
              "         -9.9225086e-01,  8.2562482e-01,  2.5382313e-01, -2.5236052e-01,\n",
              "          9.9999601e-01,  5.3723174e-01,  3.1503561e-01,  3.0042207e-01,\n",
              "          9.3593138e-01, -1.1896699e-02,  4.9889031e-01,  7.4763781e-01,\n",
              "          9.8870599e-01, -4.6233779e-01,  6.4300400e-01,  8.1435931e-01,\n",
              "         -8.4724689e-01, -3.8740855e-01, -6.9321555e-01,  6.9394678e-02,\n",
              "         -9.5151609e-01,  6.4721905e-02, -9.5991796e-01,  9.7817278e-01,\n",
              "          8.9708036e-01,  4.1074908e-01,  4.1936922e-01,  8.0693322e-01,\n",
              "          1.0000000e+00, -8.0146998e-01,  5.5614316e-01, -5.2956975e-01,\n",
              "          8.1418699e-01, -9.9970490e-01, -7.0791280e-01, -2.6460925e-01,\n",
              "         -2.2795954e-01, -7.2181529e-01, -4.4755089e-01,  3.0818436e-01,\n",
              "         -9.8037183e-01,  8.0811644e-01,  7.8784311e-01, -9.8853737e-01,\n",
              "         -9.9063599e-01, -2.9608709e-01,  8.4566569e-01,  3.3491927e-01,\n",
              "         -9.9218130e-01, -6.9261897e-01, -6.3986492e-01,  8.6754513e-01,\n",
              "         -4.4757774e-01, -9.5195746e-01, -2.5037774e-01, -4.9466497e-01,\n",
              "          3.8528576e-01, -3.1382838e-01,  5.6627536e-01,  7.8403920e-01,\n",
              "          6.4278406e-01, -8.1460524e-01, -2.4556202e-01, -2.7458146e-01,\n",
              "         -8.6379158e-01,  8.6969256e-01, -7.5276607e-01, -9.5619106e-01,\n",
              "         -1.5676822e-01,  1.0000000e+00, -4.3394524e-01,  7.7863580e-01,\n",
              "          6.9682640e-01,  7.2344136e-01, -2.5115314e-01,  2.4022491e-01,\n",
              "          9.3210173e-01,  5.0800008e-01, -5.1051092e-01, -8.3036852e-01,\n",
              "         -6.3826317e-01, -5.8656973e-01,  7.0097119e-01,  6.8458235e-01,\n",
              "          6.9733077e-01,  8.6939818e-01,  7.2840780e-01,  1.1232073e-01,\n",
              "         -2.6691461e-02,  8.0355354e-02,  9.9943447e-01, -3.9658466e-01,\n",
              "         -6.6008627e-02, -4.4195423e-01, -2.5387716e-01, -3.1299585e-01,\n",
              "         -4.2643267e-01,  1.0000000e+00,  2.8490168e-01,  7.0681924e-01,\n",
              "         -9.9366665e-01, -8.7968004e-01, -9.0601093e-01,  1.0000000e+00,\n",
              "          8.3667183e-01, -7.9639333e-01,  5.1666737e-01,  6.6712606e-01,\n",
              "         -1.3789134e-01,  7.5297022e-01, -3.9145795e-01, -4.4332114e-01,\n",
              "          4.2696276e-01,  3.2339743e-01,  9.6345288e-01, -5.6125891e-01,\n",
              "         -9.8050684e-01, -5.0911969e-01,  5.0142574e-01, -9.6566528e-01,\n",
              "          9.9996763e-01, -5.2282834e-01, -3.2196555e-01, -4.9389029e-01,\n",
              "         -6.0350597e-01,  5.7466072e-01,  5.1303040e-02, -9.8245776e-01,\n",
              "         -3.0674139e-01,  2.7933022e-01,  9.7251284e-01,  3.4830174e-01,\n",
              "         -6.2036043e-01, -9.3675303e-01,  8.1699944e-01,  7.3497456e-01,\n",
              "         -8.8269061e-01, -9.4798094e-01,  9.7024429e-01, -9.7678071e-01,\n",
              "          6.3580251e-01,  1.0000000e+00,  3.7040132e-01,  1.2356598e-01,\n",
              "          3.7683433e-01, -4.4149491e-01,  3.3171472e-01, -5.0203723e-01,\n",
              "          6.2006927e-01, -9.5687026e-01, -4.2497668e-01, -2.9285744e-01,\n",
              "          3.8740009e-01, -1.6009471e-01, -3.9252502e-01,  7.2733623e-01,\n",
              "          3.4784046e-01, -4.6372727e-01, -6.3892120e-01, -2.2477485e-01,\n",
              "          5.2484661e-01,  8.3078849e-01, -3.3012703e-01, -2.0104747e-01,\n",
              "          9.8410681e-02, -1.4027479e-01, -9.2232454e-01, -4.9265513e-01,\n",
              "         -5.6905663e-01, -9.9999499e-01,  6.2349457e-01, -1.0000000e+00,\n",
              "          7.1441358e-01,  1.4984247e-01, -1.7488870e-01,  8.9459461e-01,\n",
              "          4.1179705e-01,  6.3091385e-01, -8.7114835e-01, -7.7378589e-01,\n",
              "          4.1412193e-01,  8.0445737e-01, -4.5923734e-01, -6.1441040e-01,\n",
              "         -8.0985564e-01,  3.6468029e-01, -2.2573306e-01,  3.3399269e-01,\n",
              "         -5.5081826e-01,  6.5322590e-01, -2.4030215e-01,  1.0000000e+00,\n",
              "          1.7596975e-01, -5.9862471e-01, -9.6952611e-01,  2.7767694e-01,\n",
              "         -3.2794407e-01,  1.0000000e+00, -9.0155125e-01, -9.6757406e-01,\n",
              "          3.8436908e-01, -6.3215435e-01, -8.3466232e-01,  4.6292773e-01,\n",
              "          1.4087860e-01, -8.2610452e-01, -9.0970039e-01,  9.4853419e-01,\n",
              "          8.2918519e-01, -6.5260744e-01,  8.0044973e-01, -3.2930145e-01,\n",
              "         -5.5394959e-01,  1.2623103e-01,  8.7566197e-01,  9.8720700e-01,\n",
              "          7.9563457e-01,  9.1319770e-01, -3.9970118e-01, -4.7983545e-01,\n",
              "          9.6923900e-01,  2.6947144e-01,  6.1651945e-01,  2.6613212e-01,\n",
              "          1.0000000e+00,  4.8118901e-01, -9.4017148e-01, -2.7922595e-01,\n",
              "         -9.7655249e-01, -2.8768292e-01, -9.4029087e-01,  3.9902955e-01,\n",
              "          4.4963789e-01,  9.3167806e-01, -3.0689645e-01,  9.6145236e-01,\n",
              "         -8.6751491e-01,  9.0898849e-02, -6.6525990e-01, -4.9854544e-01,\n",
              "          5.0603259e-01, -9.4946772e-01, -9.8829204e-01, -9.8924315e-01,\n",
              "          7.2055113e-01, -5.6611544e-01,  3.8260967e-04,  2.5770447e-01,\n",
              "          1.7654119e-01,  5.7383138e-01,  5.4475373e-01, -1.0000000e+00,\n",
              "          9.5513749e-01,  5.6612074e-01,  8.7014687e-01,  9.7813267e-01,\n",
              "          6.3571167e-01,  6.0581321e-01,  3.9523891e-01, -9.8906386e-01,\n",
              "         -9.7763050e-01, -5.1036257e-01, -3.4574777e-01,  8.3587790e-01,\n",
              "          8.2073015e-01,  8.9697158e-01,  5.6734562e-01, -5.1433498e-01,\n",
              "         -4.9716255e-01, -6.7947125e-01, -7.5815898e-01, -9.9298650e-01,\n",
              "          5.7291883e-01, -4.2145121e-01, -9.4063210e-01,  9.6519959e-01,\n",
              "         -2.9080835e-01, -1.9048627e-01,  2.9180236e-02, -8.8037294e-01,\n",
              "          8.8383400e-01,  8.0052936e-01,  3.2497942e-01,  1.9975008e-01,\n",
              "          6.3657796e-01,  8.6901432e-01,  9.1591978e-01,  9.8183149e-01,\n",
              "         -8.2344478e-01,  8.1806576e-01, -6.4735198e-01,  5.9595144e-01,\n",
              "          7.4003410e-01, -9.4146699e-01,  3.3113685e-01,  6.1111176e-01,\n",
              "         -5.2812356e-01,  2.6858813e-01, -4.0212524e-01, -9.5603561e-01,\n",
              "          8.0948180e-01, -3.5457408e-01,  6.6402179e-01, -5.2841902e-01,\n",
              "         -1.2137388e-02, -3.7704802e-01, -3.2682213e-01, -7.9695034e-01,\n",
              "         -6.9349396e-01,  6.6015738e-01,  4.1327053e-01,  9.0882194e-01,\n",
              "          9.2051119e-01, -1.0730196e-01, -7.2602761e-01, -3.2425678e-01,\n",
              "         -6.1011893e-01, -9.4181520e-01,  9.2448205e-01, -1.1837160e-01,\n",
              "         -1.2493338e-01,  6.6501147e-01,  2.7408373e-01,  9.4040430e-01,\n",
              "          4.5584127e-01, -4.0215346e-01, -3.0064210e-01, -7.7994937e-01,\n",
              "          8.4166533e-01, -6.3982505e-01, -6.7766434e-01, -6.6260946e-01,\n",
              "          8.0881798e-01,  4.3931988e-01,  9.9999410e-01, -7.6638538e-01,\n",
              "         -8.1251079e-01, -4.4234520e-01, -3.6784968e-01,  4.7555083e-01,\n",
              "         -6.6259462e-01, -1.0000000e+00,  3.6292106e-01, -4.5728689e-01,\n",
              "          7.5481290e-01, -7.8440267e-01,  7.4240434e-01, -6.5419853e-01,\n",
              "         -9.7453469e-01, -4.2026636e-01,  2.0733579e-01,  6.0580879e-01,\n",
              "         -4.5511955e-01, -8.1921470e-01,  5.7221019e-01, -3.6487889e-01,\n",
              "          9.6060956e-01,  8.9907873e-01, -6.1886787e-01,  4.4857761e-01,\n",
              "          6.8727005e-01, -8.1239277e-01, -7.4393082e-01,  9.2601985e-01]],\n",
              "       dtype=float32)>, <tf.Tensor: shape=(1, 6, 768), dtype=float32, numpy=\n",
              " array([[[-0.3595063 ,  0.2955034 , -0.10914345, ..., -0.5180166 ,\n",
              "           0.7033874 ,  0.14616586],\n",
              "         [-0.3193736 ,  0.3654617 ,  0.13830394, ..., -0.5112381 ,\n",
              "           0.38566926, -0.71783143],\n",
              "         [-0.05325004,  0.1578961 , -0.01583473, ..., -0.73553586,\n",
              "           0.2223324 , -0.3755106 ],\n",
              "         [-0.20122747, -0.03262174,  0.14776406, ..., -0.09921554,\n",
              "           0.303994  , -0.08434412],\n",
              "         [-0.3967892 , -0.6161443 , -0.22985217, ...,  0.1137206 ,\n",
              "           0.4371604 , -0.3401538 ],\n",
              "         [ 0.8670451 ,  0.24509813, -0.15683784, ...,  0.18470702,\n",
              "          -0.45403707, -0.26630604]]], dtype=float32)>]"
            ]
          },
          "metadata": {
            "tags": []
          },
          "execution_count": 69
        }
      ]
    },
    {
      "cell_type": "code",
      "metadata": {
        "colab": {
          "base_uri": "https://localhost:8080/"
        },
        "id": "8Lv9Sy0vZ5MG",
        "outputId": "f84e8d3e-8744-488e-ef22-11284f43b49d"
      },
      "source": [
        "i,j = testing\n",
        "i.shape, j.shape\n"
      ],
      "execution_count": null,
      "outputs": [
        {
          "output_type": "execute_result",
          "data": {
            "text/plain": [
              "(TensorShape([1, 768]), TensorShape([1, 6, 768]))"
            ]
          },
          "metadata": {
            "tags": []
          },
          "execution_count": 70
        }
      ]
    },
    {
      "cell_type": "code",
      "metadata": {
        "colab": {
          "base_uri": "https://localhost:8080/"
        },
        "id": "poGjEQiFfswa",
        "outputId": "3f922553-ac8b-4a4e-fd5c-86286d6bfd1d"
      },
      "source": [
        "# example\n",
        "testing[0].shape, testing[1].shape\n",
        "\n",
        "# 1,6,768 의 뜻은, 1은 배치사이즈, 6은 토큰길이(sequence length), 768은 embedding길이."
      ],
      "execution_count": null,
      "outputs": [
        {
          "output_type": "execute_result",
          "data": {
            "text/plain": [
              "(TensorShape([1, 768]), TensorShape([1, 6, 768]))"
            ]
          },
          "metadata": {
            "tags": []
          },
          "execution_count": 71
        }
      ]
    },
    {
      "cell_type": "code",
      "metadata": {
        "id": "8mUvDR--hJdM"
      },
      "source": [
        "# vocab_size, embedding_dim is no more required\n",
        "class DCNNBERTEmbedding(tf.keras.Model):\n",
        "    \n",
        "    def __init__(self,\n",
        "                 nb_filters=50,\n",
        "                 FFN_units=512,\n",
        "                 nb_classes=2,\n",
        "                 dropout_rate=0.1,\n",
        "                 name=\"dcnn\"):\n",
        "        super(DCNNBERTEmbedding, self).__init__(name=name)\n",
        "        \n",
        "        self.bert_layer = hub.KerasLayer(\n",
        "            \"https://tfhub.dev/tensorflow/bert_en_uncased_L-12_H-768_A-12/1\",\n",
        "            trainable=False) # don't want to fine tune\n",
        "\n",
        "        self.bigram = layers.Conv1D(filters=nb_filters,\n",
        "                                    kernel_size=2,\n",
        "                                    padding=\"valid\",\n",
        "                                    activation=\"relu\")\n",
        "        self.trigram = layers.Conv1D(filters=nb_filters,\n",
        "                                     kernel_size=3,\n",
        "                                     padding=\"valid\",\n",
        "                                     activation=\"relu\")\n",
        "        self.fourgram = layers.Conv1D(filters=nb_filters,\n",
        "                                      kernel_size=4,\n",
        "                                      padding=\"valid\",\n",
        "                                      activation=\"relu\")\n",
        "        self.pool = layers.GlobalMaxPool1D()\n",
        "        self.dense_1 = layers.Dense(units=FFN_units, activation=\"relu\")\n",
        "        self.dropout = layers.Dropout(rate=dropout_rate)\n",
        "        if nb_classes == 2:\n",
        "            self.last_dense = layers.Dense(units=1,\n",
        "                                           activation=\"sigmoid\")\n",
        "        else:\n",
        "            self.last_dense = layers.Dense(units=nb_classes,\n",
        "                                           activation=\"softmax\")\n",
        "    \n",
        "    def embed_with_bert(self, all_tokens):\n",
        "        _, embs = self.bert_layer([all_tokens[:, 0, :], # words\n",
        "                                   all_tokens[:, 1, :], # mask\n",
        "                                   all_tokens[:, 2, :]]) # segment\n",
        "                                   # _  represents sentence [1,768]\n",
        "                                   # embes represents [batch, sequences, embed_size]\n",
        "        return embs\n",
        "\n",
        "    def call(self, inputs, training):\n",
        "        x = self.embed_with_bert(inputs) # [batch, sequences, embed_size]\n",
        "\n",
        "        print(x.shape) # [None, None, 768]\n",
        "\n",
        "        x_1 = self.bigram(x)\n",
        "        x_1 = self.pool(x_1)\n",
        "        x_2 = self.trigram(x)\n",
        "        x_2 = self.pool(x_2)\n",
        "        x_3 = self.fourgram(x)\n",
        "        x_3 = self.pool(x_3)\n",
        "        \n",
        "        merged = tf.concat([x_1, x_2, x_3], axis=-1) # (batch_size, 3 * nb_filters)\n",
        "        merged = self.dense_1(merged)\n",
        "        merged = self.dropout(merged, training)\n",
        "        output = self.last_dense(merged)\n",
        "        \n",
        "        return output"
      ],
      "execution_count": null,
      "outputs": []
    },
    {
      "cell_type": "markdown",
      "metadata": {
        "id": "CQrfTH7zaix3"
      },
      "source": [
        "# training"
      ]
    },
    {
      "cell_type": "code",
      "metadata": {
        "id": "jtxtkxboos7H"
      },
      "source": [
        "NB_FILTERS = 100\n",
        "FFN_UNITS = 256\n",
        "NB_CLASSES = 2\n",
        "\n",
        "DROPOUT_RATE = 0.2\n",
        "\n",
        "BATCH_SIZE = 32\n",
        "NB_EPOCHS = 5"
      ],
      "execution_count": null,
      "outputs": []
    },
    {
      "cell_type": "code",
      "metadata": {
        "id": "U31GLfJOXXI4"
      },
      "source": [
        "Dcnn = DCNNBERTEmbedding(nb_filters = NB_FILTERS,\n",
        "                         FFN_units = FFN_UNITS,\n",
        "                         nb_classes = NB_CLASSES,\n",
        "                         dropout_rate = DROPOUT_RATE)"
      ],
      "execution_count": null,
      "outputs": []
    },
    {
      "cell_type": "code",
      "metadata": {
        "id": "0RfLpnhlazTp"
      },
      "source": [
        "if NB_CLASSES == 2:\n",
        "    Dcnn.compile(loss=\"binary_crossentropy\",\n",
        "                 optimizer=\"adam\",\n",
        "                 metrics=[\"accuracy\"])\n",
        "else:\n",
        "    Dcnn.compile(loss=\"sparse_categorical_crossentropy\",\n",
        "                 optimizer=\"adam\",\n",
        "                 metrics=[\"sparse_categorical_accuracy\"])"
      ],
      "execution_count": null,
      "outputs": []
    },
    {
      "cell_type": "code",
      "metadata": {
        "id": "BRSKq0g-a6KP"
      },
      "source": [
        "checkpoint_path = \"/content/drive/MyDrive/study/udemy_bert/ckpoint/\"\n",
        "\n",
        "ckpt = tf.train.Checkpoint(Dcnn=Dcnn)\n",
        "\n",
        "ckpt_manager = tf.train.CheckpointManager(ckpt, checkpoint_path, max_to_keep=1)\n",
        "\n",
        "if ckpt_manager.latest_checkpoint:\n",
        "    ckpt.restore(ckpt_manager.latest_checkpoint)\n",
        "    print(\"Latest checkpoint restored!!\")"
      ],
      "execution_count": null,
      "outputs": []
    },
    {
      "cell_type": "code",
      "metadata": {
        "id": "U4fWmhABbCRh"
      },
      "source": [
        "class MyCustomCallback(tf.keras.callbacks.Callback):\n",
        "\n",
        "    def on_epoch_end(self, epoch, logs=None):\n",
        "        ckpt_manager.save()\n",
        "        print(\"Checkpoint saved at {}.\".format(checkpoint_path))"
      ],
      "execution_count": null,
      "outputs": []
    },
    {
      "cell_type": "markdown",
      "metadata": {
        "id": "fV0HEhVrbZdy"
      },
      "source": [
        "# result"
      ]
    },
    {
      "cell_type": "code",
      "metadata": {
        "colab": {
          "base_uri": "https://localhost:8080/"
        },
        "id": "hzPWE4VkbPLc",
        "outputId": "94c6ca05-412d-4cdc-edae-353aa2b104b2"
      },
      "source": [
        "Dcnn.fit(train_dataset,\n",
        "         epochs=NB_EPOCHS,\n",
        "         callbacks=[MyCustomCallback()])"
      ],
      "execution_count": null,
      "outputs": [
        {
          "output_type": "stream",
          "text": [
            "Epoch 1/5\n",
            "(None, None, 768)\n",
            "(None, None, 768)\n",
            "40623/40623 [==============================] - 2393s 58ms/step - loss: 0.3969 - accuracy: 0.8222\n",
            "Checkpoint saved at /content/drive/MyDrive/study/udemy_bert/ckpoint/.\n",
            "Epoch 2/5\n",
            "40623/40623 [==============================] - 2376s 58ms/step - loss: 0.3745 - accuracy: 0.8344\n",
            "Checkpoint saved at /content/drive/MyDrive/study/udemy_bert/ckpoint/.\n",
            "Epoch 3/5\n",
            "40623/40623 [==============================] - 2379s 58ms/step - loss: 0.3641 - accuracy: 0.8397\n",
            "Checkpoint saved at /content/drive/MyDrive/study/udemy_bert/ckpoint/.\n",
            "Epoch 4/5\n",
            "25298/40623 [=================>............] - ETA: 11:41 - loss: 0.3349 - accuracy: 0.8555"
          ],
          "name": "stdout"
        }
      ]
    },
    {
      "cell_type": "markdown",
      "metadata": {
        "id": "MKX2F0rikHHF"
      },
      "source": [
        "# evaluation"
      ]
    },
    {
      "cell_type": "code",
      "metadata": {
        "id": "xVQ3nAjzbex3"
      },
      "source": [
        "results = Dcnn.evaluate(test_dataset)\n",
        "print(results)"
      ],
      "execution_count": null,
      "outputs": []
    },
    {
      "cell_type": "code",
      "metadata": {
        "id": "NHo5SvFYkJed"
      },
      "source": [
        "def get_prediction(sentence):\n",
        "    tokens = encode_sentence(sentence)\n",
        "\n",
        "    input_ids = get_ids(tokens)\n",
        "    input_mask = get_mask(tokens)\n",
        "    segment_ids = get_segments(tokens)\n",
        "\n",
        "    inputs = tf.stack(\n",
        "        [tf.cast(input_ids, dtype=tf.int32),\n",
        "         tf.cast(input_mask, dtype=tf.int32),\n",
        "         tf.cast(segment_ids, dtype=tf.int32)],\n",
        "         axis=0)\n",
        "    inputs = tf.expand_dims(inputs, 0) # simulates a batch\n",
        "\n",
        "    output = Dcnn(inputs, training=False)\n",
        "\n",
        "    sentiment = math.floor(output*2)\n",
        "\n",
        "    if sentiment == 0:\n",
        "        print(\"Output of the model: {}\\nPredicted sentiment: negative\".format(\n",
        "            output))\n",
        "    elif sentiment == 1:\n",
        "        print(\"Output of the model: {}\\nPredicted sentiment: positive\".format(\n",
        "            output))"
      ],
      "execution_count": null,
      "outputs": []
    },
    {
      "cell_type": "code",
      "metadata": {
        "id": "GEMqQcJbkKiz"
      },
      "source": [
        "get_prediction(\"This actor is a deception.\")"
      ],
      "execution_count": null,
      "outputs": []
    }
  ]
}